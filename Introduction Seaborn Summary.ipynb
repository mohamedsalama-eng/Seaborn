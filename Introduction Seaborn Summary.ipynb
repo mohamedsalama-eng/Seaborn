{
 "cells": [
  {
   "cell_type": "markdown",
   "id": "26cd5e6a",
   "metadata": {},
   "source": [
    "# Chapter 1"
   ]
  },
  {
   "cell_type": "code",
   "execution_count": null,
   "id": "cf87f6f6",
   "metadata": {},
   "outputs": [],
   "source": [
    "\n",
    "#Scatter plot\n",
    "import seaborn as sns\n",
    "import matplotlib.pyplot as plt\n",
    "height = [62, 64, 69, 75, 66,\n",
    "68, 65, 71, 76, 73]\n",
    "weight = [120, 136, 148, 175, 137,\n",
    "165, 154, 172, 200, 187]\n",
    "# sns.scatterplot(x = \"\" , y = \"\" , data = \"\" , hue = \"\", hue_order= [], palette = [] )   this is an axes supplot (we will get back to this in chapter 4)\n",
    "# hue is like adding a third variable to your plot with colors where u pass the 3 variable u can also add your own custom colors to it \n",
    "# and its order  , palette is the colors u want \\the hue to be \n",
    "sns.scatterplot(x=height, y=weight)    \n",
    "plt.show()\n"
   ]
  },
  {
   "cell_type": "code",
   "execution_count": null,
   "id": "cd41ce21",
   "metadata": {},
   "outputs": [],
   "source": [
    "import seaborn as sns\n",
    "import matplotlib.pyplot as plt\n",
    "gender = [\"Female\",\"Female\",\"Female\",\"Female\",\"Male\",\"Male\",\"Male\",\"Male\",\"Male\",\"Male\"]\n",
    "# sns.countplot(x = \"\" , y = \"\" , data = \"\" , hue = \"\", hue_order= [], palette = [] )  this is an axes supplot (we will get back to this in chapter 4)\n",
    "sns.countplot(x=gender)    \n",
    "plt.show()"
   ]
  },
  {
   "cell_type": "code",
   "execution_count": null,
   "id": "f0dcc3d5",
   "metadata": {},
   "outputs": [],
   "source": [
    "import matplotlib.pyplot as plt\n",
    "import seaborn as sns\n",
    "tips = sns.load_dataset('tips')\n",
    "hue_colors = {\"Yes\": \"black\",\"No\": \"red\"}\n",
    "sns.scatterplot(x=\"total_bill\" , y=\"tip\" , data=tips , hue=\"smoker\" , hue_order=[\"Yes\",\"No\"] , palette=hue_colors)  # tips is data \n",
    "plt.show()"
   ]
  },
  {
   "cell_type": "markdown",
   "id": "256433ab",
   "metadata": {},
   "source": [
    "# Chapter 2"
   ]
  },
  {
   "cell_type": "code",
   "execution_count": null,
   "id": "d22a9731",
   "metadata": {},
   "outputs": [],
   "source": [
    "# now we will start using relplot() \n",
    "import seaborn as sns\n",
    "import matplotlib.pyplot as plt\n",
    "# sns.relplot(x = \"\" , y = \"\" , data = \"\" , kind = \"\" ,hue = \"\", hue_order= [], palette = [], col = \"\" , col_wrap = , col_order= []) \n",
    "# col or row lets u do a subplots (like hue but every color has his own plot)  (u can add both to make 4 subplots)\n",
    "# col_wrap lets u control how many plots in a row or column \n",
    "# col_order is obvious\n",
    "# u can add some customization like (size = \"\" , style = \"\" , alpha = , markers = True , dashes = False , ci = )\n",
    "# in the kind = \"\"  u add what type of plots u want like [\"scatter\" , \"line\"]\n",
    "sns.relplot(x=\"total\" , y=\"tip\" , data=tips , kind=\"scatter\" , col=\"smoker\")\n",
    "plt.show()\n"
   ]
  },
  {
   "cell_type": "markdown",
   "id": "4f0ceb99",
   "metadata": {},
   "source": [
    "# Chapter 3"
   ]
  },
  {
   "cell_type": "code",
   "execution_count": null,
   "id": "f9775d0a",
   "metadata": {},
   "outputs": [],
   "source": [
    "# now we will start using catplot() \n",
    "\n",
    "import matplotlib.pyplot as plt\n",
    "import seaborn as sns\n",
    "masculinity_data = sns.load_dataset('masculinity_data')\n",
    "category_order = [\"No answer\",\"Not at all\",\"Not very\",\"Somewhat\",\"Very\"]\n",
    "# sns.catplot(x = \"\" , y = \"\" , data = \"\" , kind = \"\" ,  hue = \"\", hue_order= [], palette = [], col = \"\" , col_wrap = , col_order= []) \n",
    "# kind = [\"box\", \"bar\" , \"point\" , \"count\"]\n",
    "# in box plot u can add sym = \"\"    to remove any outlaiers  \n",
    "# whis is something u can add but  i don underdtand\n",
    "sns.catplot(x = \"how_masculine\" , data = masculinity_data , kind = \"count\", order = category_order)\n",
    "plt.show()"
   ]
  },
  {
   "cell_type": "markdown",
   "id": "005e87fe",
   "metadata": {},
   "source": [
    "# Chapter 4"
   ]
  },
  {
   "cell_type": "code",
   "execution_count": 1,
   "id": "02a49d07",
   "metadata": {},
   "outputs": [],
   "source": [
    "# this chapter talks about the colors and so on\n",
    "\n",
    "# sns.set_style(\"\")   u can put  \"white\",\"dark\",\"whitegrid\",\"darkgrid\",\"ticks\"\n",
    "# sns.set_palette(\"\")    colors \n",
    "# sns.set_context(\"\")   \"paper\" , \"notebook\" , \"talk\" , \"poster\"\n",
    "# u can search the how to add labels and titles"
   ]
  }
 ],
 "metadata": {
  "kernelspec": {
   "display_name": "base",
   "language": "python",
   "name": "python3"
  },
  "language_info": {
   "codemirror_mode": {
    "name": "ipython",
    "version": 3
   },
   "file_extension": ".py",
   "mimetype": "text/x-python",
   "name": "python",
   "nbconvert_exporter": "python",
   "pygments_lexer": "ipython3",
   "version": "3.13.5"
  }
 },
 "nbformat": 4,
 "nbformat_minor": 5
}
